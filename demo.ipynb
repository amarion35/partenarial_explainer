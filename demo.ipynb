{
 "cells": [
  {
   "cell_type": "code",
   "execution_count": 1,
   "metadata": {},
   "outputs": [],
   "source": [
    "import numpy as np\n",
    "import pandas as pd"
   ]
  },
  {
   "cell_type": "markdown",
   "metadata": {},
   "source": [
    "# Preprocess datas"
   ]
  },
  {
   "cell_type": "markdown",
   "metadata": {},
   "source": [
    "Human-Resource-Analytics-Kaggle-Dataset is a dataset with professionnal informations of employees. The objective is to unerstand if/why someone leave a company. https://github.com/ryankarlos/Human-Resource-Analytics-Kaggle-Dataset"
   ]
  },
  {
   "cell_type": "code",
   "execution_count": 2,
   "metadata": {},
   "outputs": [
    {
     "data": {
      "text/plain": [
       "((14999, 7), (14999, 1))"
      ]
     },
     "execution_count": 2,
     "metadata": {},
     "output_type": "execute_result"
    }
   ],
   "source": [
    "hr = pd.read_csv('./datasets/HR_comma_sep.csv')\n",
    "Xt = hr.drop(labels=['sales', 'salary', 'left'], axis=1)\n",
    "X = (Xt-Xt.min())/(Xt.max()-Xt.min())\n",
    "X = np.array(X)\n",
    "X[np.isnan(X)] = -1\n",
    "y = np.array(hr['left'])\n",
    "y = y.astype(np.int).reshape(-1,1)\n",
    "n_class = 2\n",
    "n_features = len(Xt.columns)\n",
    "Xt.shape, y.shape"
   ]
  },
  {
   "cell_type": "markdown",
   "metadata": {},
   "source": [
    "Audit Data is a dataset with audit score and risks factors. The objective is to understand if/why a company is fraudulent.\n",
    "https://www.kaggle.com/sid321axn/audit-data"
   ]
  },
  {
   "cell_type": "raw",
   "metadata": {},
   "source": [
    "audit = pd.read_csv('./datasets/audit_data.csv', sep=';')\n",
    "Xt = audit.drop(labels=['LOCATION_ID', 'Audit_Risk', 'Detection_Risk', 'Risk'], axis=1)\n",
    "X = (Xt-Xt.min())/(Xt.max()-Xt.min())\n",
    "X = np.array(X)\n",
    "X[np.isnan(X)] = -1\n",
    "y = np.array(audit['Risk'])\n",
    "y = y.astype(np.int).reshape(-1,1)\n",
    "n_class = 2\n",
    "n_features = len(Xt.columns)\n",
    "Xt.shape, y.shape"
   ]
  },
  {
   "cell_type": "markdown",
   "metadata": {},
   "source": [
    "Bank_Loan_Classification is a dataset with banking informations of clients. Our objective is understand if/why someone doesn't have a loan.\n",
    "https://www.kaggle.com/sriharipramod/bank-loan-classification"
   ]
  },
  {
   "cell_type": "raw",
   "metadata": {},
   "source": [
    "bank = pd.read_csv('./datasets/UniversalBank.csv', sep=';')\n",
    "Xt = bank.drop(labels=['ID', 'ZIP Code', 'Personal Loan'], axis=1)\n",
    "X = (Xt-Xt.min())/(Xt.max()-Xt.min())\n",
    "X = np.array(X)\n",
    "X[np.isnan(X)] = -1\n",
    "y = np.array(bank['Personal Loan'])\n",
    "y = y.astype(np.int).reshape(-1,1)\n",
    "y = (y==0).astype(np.int)\n",
    "n_class = 2\n",
    "n_features = len(Xt.columns)\n",
    "Xt.shape, y.shape"
   ]
  },
  {
   "cell_type": "code",
   "execution_count": 3,
   "metadata": {},
   "outputs": [],
   "source": [
    "from sklearn.model_selection import train_test_split"
   ]
  },
  {
   "cell_type": "code",
   "execution_count": 4,
   "metadata": {},
   "outputs": [
    {
     "data": {
      "text/plain": [
       "((7499, 7), (7500, 7), (7499, 1), (7500, 1))"
      ]
     },
     "execution_count": 4,
     "metadata": {},
     "output_type": "execute_result"
    }
   ],
   "source": [
    "X_train, X_test, y_train, y_test = train_test_split(X, y, test_size=0.5, random_state=42)\n",
    "X_train.shape, X_test.shape, y_train.shape, y_test.shape"
   ]
  },
  {
   "cell_type": "markdown",
   "metadata": {},
   "source": [
    "# Train XGBoost model"
   ]
  },
  {
   "cell_type": "code",
   "execution_count": 5,
   "metadata": {},
   "outputs": [],
   "source": [
    "import xgboost as xgb"
   ]
  },
  {
   "cell_type": "code",
   "execution_count": 6,
   "metadata": {},
   "outputs": [
    {
     "name": "stdout",
     "output_type": "stream",
     "text": [
      "[0]\teval-merror:0.033733\ttrain-merror:0.028537\n",
      "[1]\teval-merror:0.031867\ttrain-merror:0.024803\n",
      "[2]\teval-merror:0.031333\ttrain-merror:0.02387\n",
      "[3]\teval-merror:0.0296\ttrain-merror:0.022936\n",
      "[4]\teval-merror:0.0328\ttrain-merror:0.024937\n",
      "[5]\teval-merror:0.0304\ttrain-merror:0.022936\n",
      "[6]\teval-merror:0.0316\ttrain-merror:0.02387\n",
      "[7]\teval-merror:0.030533\ttrain-merror:0.023203\n",
      "[8]\teval-merror:0.031467\ttrain-merror:0.023603\n",
      "[9]\teval-merror:0.031333\ttrain-merror:0.02347\n",
      "[10]\teval-merror:0.0304\ttrain-merror:0.023336\n",
      "[11]\teval-merror:0.031067\ttrain-merror:0.023336\n",
      "[12]\teval-merror:0.0312\ttrain-merror:0.023203\n",
      "[13]\teval-merror:0.030933\ttrain-merror:0.022803\n",
      "[14]\teval-merror:0.030267\ttrain-merror:0.022003\n",
      "[15]\teval-merror:0.029067\ttrain-merror:0.022003\n",
      "[16]\teval-merror:0.028\ttrain-merror:0.02187\n",
      "[17]\teval-merror:0.028133\ttrain-merror:0.020803\n",
      "[18]\teval-merror:0.0284\ttrain-merror:0.020669\n",
      "[19]\teval-merror:0.028533\ttrain-merror:0.020269\n",
      "[20]\teval-merror:0.027733\ttrain-merror:0.020403\n",
      "[21]\teval-merror:0.0276\ttrain-merror:0.020403\n",
      "[22]\teval-merror:0.027467\ttrain-merror:0.020136\n",
      "[23]\teval-merror:0.0272\ttrain-merror:0.020269\n",
      "[24]\teval-merror:0.027333\ttrain-merror:0.020269\n",
      "[25]\teval-merror:0.026933\ttrain-merror:0.019736\n",
      "[26]\teval-merror:0.026533\ttrain-merror:0.019736\n",
      "[27]\teval-merror:0.0268\ttrain-merror:0.019736\n",
      "[28]\teval-merror:0.026533\ttrain-merror:0.019336\n",
      "[29]\teval-merror:0.026\ttrain-merror:0.019069\n",
      "[30]\teval-merror:0.025733\ttrain-merror:0.019069\n",
      "[31]\teval-merror:0.026\ttrain-merror:0.018936\n",
      "[32]\teval-merror:0.025467\ttrain-merror:0.019069\n",
      "[33]\teval-merror:0.025467\ttrain-merror:0.019069\n",
      "[34]\teval-merror:0.025733\ttrain-merror:0.019203\n",
      "[35]\teval-merror:0.0256\ttrain-merror:0.019203\n",
      "[36]\teval-merror:0.025733\ttrain-merror:0.018936\n",
      "[37]\teval-merror:0.025467\ttrain-merror:0.018402\n",
      "[38]\teval-merror:0.025467\ttrain-merror:0.018669\n",
      "[39]\teval-merror:0.024933\ttrain-merror:0.018269\n",
      "[40]\teval-merror:0.025067\ttrain-merror:0.018269\n",
      "[41]\teval-merror:0.024533\ttrain-merror:0.017069\n",
      "[42]\teval-merror:0.024533\ttrain-merror:0.017069\n",
      "[43]\teval-merror:0.024667\ttrain-merror:0.017069\n",
      "[44]\teval-merror:0.024533\ttrain-merror:0.017069\n",
      "[45]\teval-merror:0.024667\ttrain-merror:0.017202\n",
      "[46]\teval-merror:0.024667\ttrain-merror:0.017069\n",
      "[47]\teval-merror:0.024533\ttrain-merror:0.017202\n",
      "[48]\teval-merror:0.0244\ttrain-merror:0.017202\n",
      "[49]\teval-merror:0.024533\ttrain-merror:0.017202\n"
     ]
    }
   ],
   "source": [
    "dtrain = xgb.DMatrix(X_train.copy(), y_train.copy(), missing=np.nan)\n",
    "dtest = xgb.DMatrix(X_test.copy(), y_test.copy(), missing=np.nan)\n",
    "\n",
    "\n",
    "lmda = 2.0\n",
    "params = {\n",
    "    \"objective\":\"multi:softprob\", \n",
    "    'num_class': len(np.unique(y)), \n",
    "    'silent': 1, \n",
    "    'eval_metric': 'merror', \n",
    "    'base_score':0, \n",
    "    \"lambda\":lmda, \n",
    "    'max_depth': 4\n",
    "}\n",
    "watchlist = [(dtest, 'eval'), (dtrain, 'train')]\n",
    "best_iteration = 50\n",
    "\n",
    "bst = xgb.train(params, dtrain, best_iteration, watchlist)"
   ]
  },
  {
   "cell_type": "code",
   "execution_count": 7,
   "metadata": {},
   "outputs": [],
   "source": [
    "from sklearn.metrics import accuracy_score"
   ]
  },
  {
   "cell_type": "code",
   "execution_count": 8,
   "metadata": {},
   "outputs": [
    {
     "data": {
      "text/plain": [
       "0.9754666666666667"
      ]
     },
     "execution_count": 8,
     "metadata": {},
     "output_type": "execute_result"
    }
   ],
   "source": [
    "pred = bst.predict(dtest)\n",
    "accuracy_score(pred.argmax(axis=1), y_test)"
   ]
  },
  {
   "cell_type": "code",
   "execution_count": 9,
   "metadata": {},
   "outputs": [],
   "source": [
    "from sklearn.preprocessing import OneHotEncoder"
   ]
  },
  {
   "cell_type": "code",
   "execution_count": 10,
   "metadata": {},
   "outputs": [],
   "source": [
    "y_train = OneHotEncoder(categories='auto').fit_transform(y_train).toarray()\n",
    "y_test = OneHotEncoder(categories='auto').fit_transform(y_test).toarray()"
   ]
  },
  {
   "cell_type": "markdown",
   "metadata": {},
   "source": [
    "# Build DFE model"
   ]
  },
  {
   "cell_type": "code",
   "execution_count": 11,
   "metadata": {},
   "outputs": [],
   "source": [
    "from estimators.dfe import DFE\n",
    "import torch\n",
    "device = torch.device(\"cpu\")"
   ]
  },
  {
   "cell_type": "code",
   "execution_count": 12,
   "metadata": {},
   "outputs": [],
   "source": [
    "dfe = DFE(bst, n_class=n_class, n_features=n_features, alpha=10e2, device=device)\n",
    "dfe.fit(X_train.copy(), y_train.copy(), X_val=X_test.copy(), Y_val=y_test.copy())"
   ]
  },
  {
   "cell_type": "code",
   "execution_count": 13,
   "metadata": {},
   "outputs": [],
   "source": [
    "bmodel = dfe.get_model()"
   ]
  },
  {
   "cell_type": "markdown",
   "metadata": {},
   "source": [
    "# Performances"
   ]
  },
  {
   "cell_type": "code",
   "execution_count": 14,
   "metadata": {},
   "outputs": [],
   "source": [
    "from scipy.special import softmax"
   ]
  },
  {
   "cell_type": "code",
   "execution_count": 15,
   "metadata": {},
   "outputs": [],
   "source": [
    "p0 = softmax(bst.predict(dtest, output_margin=True))\n",
    "p1 = softmax(dfe.predict(X_test, softmax=False), axis=1)\n",
    "p2 = softmax(dfe.predict_model(bst, X_test))"
   ]
  },
  {
   "cell_type": "code",
   "execution_count": 16,
   "metadata": {},
   "outputs": [],
   "source": [
    "p0 = softmax(bst.predict(dtest, output_margin=True))\n",
    "\n",
    "p0p1 = []\n",
    "\n",
    "x = 10**((np.arange(10)/1)-3)\n",
    "for i in x:\n",
    "    dfe_i = DFE(bst, n_class=n_class, n_features=n_features, alpha=i, device=device)\n",
    "    dfe_i.fit(X_train.copy(), y_train.copy(), X_val=X_test.copy(), Y_val=y_test.copy())\n",
    "    p1 = softmax(dfe_i.predict(X_test, softmax=False))\n",
    "    p0p1.append(accuracy_score(p0.argmax(1), p1.argmax(1)))\n",
    "    del(dfe_i)"
   ]
  },
  {
   "cell_type": "code",
   "execution_count": 17,
   "metadata": {},
   "outputs": [],
   "source": [
    "import matplotlib.pyplot as plt"
   ]
  },
  {
   "cell_type": "code",
   "execution_count": 18,
   "metadata": {},
   "outputs": [
    {
     "data": {
      "image/png": "[encoded data removed]",
      "text/plain": [
       "<Figure size 720x432 with 1 Axes>"
      ]
     },
     "metadata": {
      "needs_background": "light"
     },
     "output_type": "display_data"
    }
   ],
   "source": [
    "plt.figure(figsize=(10,6))\n",
    "plt.plot(x, p0p1)\n",
    "plt.xscale('log')\n",
    "plt.grid(which='both')\n",
    "plt.title('Estimator accuracy')\n",
    "plt.ylabel('accuracy')\n",
    "plt.xlabel('lambda')\n",
    "plt.show()"
   ]
  },
  {
   "cell_type": "markdown",
   "metadata": {},
   "source": [
    "# Select faulty example"
   ]
  },
  {
   "cell_type": "code",
   "execution_count": 19,
   "metadata": {},
   "outputs": [],
   "source": [
    "pred_test = torch.argmax(bmodel(torch.tensor(X_test), training=False), dim=1).data.numpy()\n",
    "Y_test = np.argmax(y_test, axis=1)\n",
    "FC_index = np.logical_and(pred_test==Y_test,Y_test==1)\n",
    "FC_X = X_test[FC_index]\n",
    "FC_Y = Y_test[FC_index]\n",
    "sample_idx = np.random.choice(range(len(FC_X)))\n",
    "x = FC_X[sample_idx]\n",
    "y = 0"
   ]
  },
  {
   "cell_type": "markdown",
   "metadata": {},
   "source": [
    "# Search partenarial example"
   ]
  },
  {
   "cell_type": "code",
   "execution_count": 20,
   "metadata": {},
   "outputs": [
    {
     "name": "stdout",
     "output_type": "stream",
     "text": [
      "y=tensor([[0.0110, 0.7031, 0.8000, 0.6963, 0.2500, 0.0000, 0.0000]],\n",
      "       dtype=torch.float64), target=[0], m=-1, out=[[-1.6472559  1.6472564]]\n",
      "Epoch 0 - OUT - distance: 1.0499999999999998\n",
      "Epoch 1 - IN  - distance: 0.9974999999999998\n",
      "Epoch 2 - IN  - distance: 0.947625\n",
      "Epoch 3 - OUT - distance: 0.99500625\n",
      "Epoch 4 - OUT - distance: 1.0447565625\n",
      "Epoch 5 - IN  - distance: 0.9925187343749998\n",
      "Epoch 6 - IN  - distance: 0.9428927976562499\n",
      "Epoch 7 - IN  - distance: 0.8957481577734373\n",
      "Epoch 8 - IN  - distance: 0.8509607498847656\n",
      "Epoch 9 - IN  - distance: 0.808412712390527\n",
      "Epoch 10 - IN  - distance: 0.7679920767710008\n",
      "Epoch 11 - IN  - distance: 0.7295924729324507\n",
      "Epoch 12 - IN  - distance: 0.6931128492858281\n",
      "Epoch 13 - IN  - distance: 0.6584572068215366\n",
      "Epoch 14 - IN  - distance: 0.6255343464804597\n",
      "Epoch 15 - IN  - distance: 0.5942576291564367\n",
      "Epoch 16 - IN  - distance: 0.5645447476986148\n",
      "Epoch 17 - IN  - distance: 0.5363175103136842\n",
      "Epoch 18 - IN  - distance: 0.5095016347979999\n",
      "Epoch 19 - IN  - distance: 0.4840265530580999\n",
      "Epoch 20 - IN  - distance: 0.4598252254051949\n",
      "Epoch 21 - IN  - distance: 0.43683396413493514\n",
      "Epoch 22 - IN  - distance: 0.4149922659281884\n",
      "Epoch 23 - IN  - distance: 0.39424265263177904\n",
      "Epoch 24 - IN  - distance: 0.37453052000018994\n",
      "Epoch 25 - IN  - distance: 0.3558039940001804\n",
      "Epoch 26 - IN  - distance: 0.3380137943001714\n",
      "Epoch 27 - IN  - distance: 0.32111310458516285\n",
      "Epoch 28 - IN  - distance: 0.30505744935590473\n",
      "Epoch 29 - IN  - distance: 0.28980457688810946\n",
      "Epoch 30 - IN  - distance: 0.27531434804370397\n",
      "Epoch 31 - IN  - distance: 0.26154863064151873\n",
      "Epoch 32 - IN  - distance: 0.24847119910944285\n",
      "Epoch 33 - IN  - distance: 0.23604763915397065\n",
      "Epoch 34 - IN  - distance: 0.22424525719627222\n",
      "Epoch 35 - IN  - distance: 0.2130329943364585\n",
      "Epoch 36 - IN  - distance: 0.20238134461963558\n",
      "Epoch 37 - IN  - distance: 0.19226227738865379\n",
      "Epoch 38 - IN  - distance: 0.18264916351922114\n",
      "Epoch 39 - IN  - distance: 0.17351670534326005\n",
      "Epoch 40 - IN  - distance: 0.16484087007609705\n",
      "Epoch 41 - IN  - distance: 0.15659882657229218\n",
      "Epoch 42 - IN  - distance: 0.14876888524367757\n",
      "Epoch 43 - IN  - distance: 0.14133044098149367\n",
      "Epoch 44 - IN  - distance: 0.13426391893241899\n",
      "Epoch 45 - IN  - distance: 0.12755072298579803\n",
      "Epoch 46 - IN  - distance: 0.12117318683650816\n",
      "Epoch 47 - IN  - distance: 0.11511452749468272\n",
      "Epoch 48 - IN  - distance: 0.10935880111994864\n",
      "Epoch 49 - IN  - distance: 0.10389086106395116\n",
      "Epoch 50 - IN  - distance: 0.09869631801075356\n",
      "Epoch 51 - IN  - distance: 0.09376150211021594\n",
      "Epoch 52 - IN  - distance: 0.08907342700470511\n",
      "Epoch 53 - IN  - distance: 0.08461975565446986\n",
      "Epoch 54 - IN  - distance: 0.08038876787174634\n",
      "Epoch 55 - IN  - distance: 0.07636932947815903\n",
      "Epoch 56 - IN  - distance: 0.0725508630042511\n",
      "Epoch 57 - IN  - distance: 0.0689233198540385\n",
      "Epoch 58 - IN  - distance: 0.06547715386133658\n",
      "Epoch 59 - IN  - distance: 0.06220329616826974\n",
      "Epoch 60 - IN  - distance: 0.059093131359856235\n",
      "Epoch 61 - IN  - distance: 0.05613847479186344\n",
      "Epoch 62 - IN  - distance: 0.05333155105227028\n",
      "Epoch 63 - IN  - distance: 0.050664973499656756\n",
      "Epoch 64 - IN  - distance: 0.04813172482467393\n",
      "Epoch 65 - OUT - distance: 0.05053831106590761\n",
      "Epoch 66 - IN  - distance: 0.048011395512612215\n",
      "Epoch 67 - OUT - distance: 0.050411965288242856\n",
      "Epoch 68 - IN  - distance: 0.047891367023830685\n",
      "Epoch 69 - OUT - distance: 0.050285935375022225\n",
      "Epoch 70 - IN  - distance: 0.04777163860627112\n",
      "Epoch 71 - OUT - distance: 0.050160220536584664\n",
      "Epoch 72 - IN  - distance: 0.047652209509755454\n",
      "Epoch 73 - IN  - distance: 0.04526959903426769\n",
      "Epoch 74 - OUT - distance: 0.04753307898598103\n",
      "Epoch 75 - IN  - distance: 0.04515642503668201\n",
      "Epoch 76 - OUT - distance: 0.04741424628851608\n",
      "Epoch 77 - IN  - distance: 0.045043533974090284\n",
      "Epoch 78 - OUT - distance: 0.04729571067279483\n",
      "Epoch 79 - IN  - distance: 0.044930925139155066\n",
      "Epoch 80 - OUT - distance: 0.047177471396112815\n",
      "Epoch 81 - IN  - distance: 0.04481859782630718\n",
      "Epoch 82 - OUT - distance: 0.04705952771762254\n",
      "Epoch 83 - IN  - distance: 0.04470655133174139\n",
      "Epoch 84 - OUT - distance: 0.04694187889832849\n",
      "Epoch 85 - IN  - distance: 0.04459478495341207\n",
      "Epoch 86 - OUT - distance: 0.04682452420108267\n",
      "Epoch 87 - IN  - distance: 0.04448329799102853\n",
      "Epoch 88 - OUT - distance: 0.04670746289057995\n",
      "Epoch 89 - IN  - distance: 0.04437208974605094\n",
      "Epoch 90 - OUT - distance: 0.04659069423335349\n",
      "Epoch 91 - IN  - distance: 0.04426115952168581\n",
      "Epoch 92 - OUT - distance: 0.04647421749777013\n",
      "Epoch 93 - IN  - distance: 0.04415050662288161\n",
      "Epoch 94 - OUT - distance: 0.046358031954025686\n",
      "Epoch 95 - IN  - distance: 0.0440401303563244\n",
      "Epoch 96 - OUT - distance: 0.046242136874140624\n",
      "Epoch 97 - IN  - distance: 0.04393003003043358\n",
      "Epoch 98 - OUT - distance: 0.04612653153195528\n",
      "Epoch 99 - IN  - distance: 0.043820204955357475\n"
     ]
    }
   ],
   "source": [
    "from example_research.ddn import DDN\n",
    "import torch.nn as nn\n",
    "\n",
    "Loss = nn.CrossEntropyLoss(reduction='mean')\n",
    "ddn = DDN(bmodel, Loss, alpha=1, gamma=0.05)\n",
    "xa = ddn.fit(x, y, n_iter=100)"
   ]
  },
  {
   "cell_type": "markdown",
   "metadata": {},
   "source": [
    "# Results"
   ]
  },
  {
   "cell_type": "code",
   "execution_count": 21,
   "metadata": {},
   "outputs": [
    {
     "data": {
      "image/png": "[encoded data removed]",
      "text/plain": [
       "<Figure size 936x504 with 1 Axes>"
      ]
     },
     "metadata": {
      "needs_background": "light"
     },
     "output_type": "display_data"
    }
   ],
   "source": [
    "col_idx = np.array(list(range(xa[-1].size(1))))\n",
    "xadv = xa[-1][0].data.numpy()\n",
    "width = 0.25\n",
    "\n",
    "plt.figure(figsize=(13,7))\n",
    "\n",
    "plt.bar(col_idx-width/2, x, width, tick_label=Xt.columns, label='original (faulty)', color='tab:red')\n",
    "plt.xticks(rotation=20, ha='right')\n",
    "\n",
    "plt.bar(col_idx+width/2, xadv, width, tick_label=Xt.columns, label='partenarial (non-faulty)', color='tab:green')\n",
    "plt.xticks(rotation=20, ha='right')\n",
    "\n",
    "plt.legend()\n",
    "plt.title('Original-Partenarial comparison')\n",
    "plt.show()"
   ]
  },
  {
   "cell_type": "code",
   "execution_count": null,
   "metadata": {},
   "outputs": [],
   "source": []
  }
 ],
 "metadata": {
  "kernelspec": {
   "display_name": "conda_terpret70",
   "language": "python",
   "name": "conda_terpret70"
  },
  "language_info": {
   "codemirror_mode": {
    "name": "ipython",
    "version": 3
   },
   "file_extension": ".py",
   "mimetype": "text/x-python",
   "name": "python",
   "nbconvert_exporter": "python",
   "pygments_lexer": "ipython3",
   "version": "3.6.2"
  }
 },
 "nbformat": 4,
 "nbformat_minor": 2
}
